{
 "cells": [
  {
   "cell_type": "code",
   "execution_count": 1,
   "metadata": {},
   "outputs": [],
   "source": [
    "import copy\n",
    "import numpy as np\n",
    "\n",
    "from numpy.random import shuffle\n",
    "from numba import njit\n",
    "import matplotlib.pyplot as plt\n",
    "\n",
    "from time import time\n",
    "from tqdm import tqdm\n",
    "\n",
    "import funcs as f\n",
    "import utils as utl"
   ]
  },
  {
   "cell_type": "code",
   "execution_count": 2,
   "metadata": {},
   "outputs": [],
   "source": [
    "def show(G):\n",
    "    \n",
    "    tmp = 'X | '\n",
    "    for v in V:\n",
    "        tmp += ' ' + v + ' '\n",
    "    \n",
    "    print(tmp)\n",
    "    print('')\n",
    "    \n",
    "    for row in range(len(V)):\n",
    "        \n",
    "        tmp = V[row] + ' | '\n",
    "        for col in range(Vsize):\n",
    "            \n",
    "            if G[row][col] == np.inf:\n",
    "                tmp +=  ' i '\n",
    "            else:\n",
    "                w = int(G[row][col])\n",
    "                if w == 0:\n",
    "                    tmp +=  \" 0 \"\n",
    "                else:\n",
    "                    if w < 10 : tmp +=  ' ' + str(w) + ' '\n",
    "                    if 10 <= w < 100 : tmp +=  ' ' + str(w)\n",
    "\n",
    "            \n",
    "        print(tmp)"
   ]
  },
  {
   "cell_type": "markdown",
   "metadata": {},
   "source": [
    "---"
   ]
  },
  {
   "cell_type": "markdown",
   "metadata": {},
   "source": [
    "![title](testg2.png)"
   ]
  },
  {
   "cell_type": "code",
   "execution_count": 3,
   "metadata": {},
   "outputs": [],
   "source": [
    "#     0    1    2    3\n",
    "V = [\"S\", \"a\", \"b\", \"E\"]\n",
    "\n",
    "Vsize = len(V)"
   ]
  },
  {
   "cell_type": "code",
   "execution_count": 4,
   "metadata": {},
   "outputs": [],
   "source": [
    "g = np.zeros((Vsize,Vsize), dtype=np.float32)"
   ]
  },
  {
   "cell_type": "code",
   "execution_count": 5,
   "metadata": {},
   "outputs": [],
   "source": [
    "# Regular (input) edges\n",
    "# S\n",
    "g[0][1] = 5\n",
    "g[0][2] = 5\n",
    "\n",
    "# a\n",
    "g[1][3] = 5\n",
    "g[1][2] = 5\n",
    "\n",
    "# b \n",
    "g[2][3] = 5"
   ]
  },
  {
   "cell_type": "code",
   "execution_count": 6,
   "metadata": {},
   "outputs": [
    {
     "name": "stdout",
     "output_type": "stream",
     "text": [
      "Edges\n",
      "S  ->  a\n",
      "S  ->  b\n",
      "a  ->  b\n",
      "a  ->  E\n",
      "b  ->  E\n",
      "Anti-edges\n",
      "a  ->  S\n",
      "b  ->  S\n",
      "b  ->  a\n",
      "E  ->  a\n",
      "E  ->  b\n"
     ]
    }
   ],
   "source": [
    "print(\"Edges\")\n",
    "for v in range(g.shape[0]):\n",
    "    for v_ in range(g.shape[0]):\n",
    "\n",
    "        if g[v][v_] != 0:\n",
    "            print(V[v], \" -> \", V[v_]) \n",
    "            \n",
    "\n",
    "print(\"Anti-edges\")\n",
    "for v in range(g.shape[0]):\n",
    "    for v_ in range(g.shape[0]):          \n",
    "            \n",
    "        if g[v][v_] != 0 and g[v_][v] == 0:\n",
    "            print(V[v_], \" -> \", V[v]) "
   ]
  },
  {
   "cell_type": "markdown",
   "metadata": {},
   "source": [
    "---"
   ]
  },
  {
   "cell_type": "code",
   "execution_count": 7,
   "metadata": {},
   "outputs": [],
   "source": [
    "#@njit\n",
    "def iteration(G, F, V):\n",
    "    \n",
    "    # BFS\n",
    "    Prev = np.full(Vsize, -1) # Prev node\n",
    "    Q = [0] # Queue\n",
    "    cursor = 0 # instead of popping elements of of the Q\n",
    "\n",
    "    while cursor < Vsize:\n",
    "        v_curr = Q[cursor]\n",
    "        for v_ind, capacity in enumerate( G[v_curr] ):\n",
    "            if F[v_curr, v_ind] != capacity and Prev[v_ind] == -1 and v_ind != v_curr and v_ind != 0:\n",
    "                Q.append(v_ind)\n",
    "                Prev[v_ind] = v_curr\n",
    "\n",
    "        cursor += 1\n",
    "        if cursor >= len(Q) : break\n",
    "\n",
    "            \n",
    "            \n",
    "    # path reconstruction\n",
    "    v_curr = Vsize - 1\n",
    "    path = [v_curr]\n",
    "    while True:\n",
    "        v_prev = Prev[v_curr]\n",
    "        v_curr = v_prev\n",
    "        if v_curr == -1 : break\n",
    "        path.append(v_curr)\n",
    "\n",
    "    path = path[::-1]\n",
    "    \n",
    "    \n",
    "    \n",
    "    # path bottleneck\n",
    "    bottleneck = np.inf # float('inf') doesn't work with numba\n",
    "    for i in range(len(path) - 1):\n",
    "        v_curr = path[i]\n",
    "        v_next = path[i+1]\n",
    "\n",
    "        local_w = G[v_curr, v_next] - F_[v_curr, v_next]\n",
    "        if local_w < bottleneck: \n",
    "            bottleneck = local_w\n",
    "    if bottleneck == np.inf : return F, True\n",
    "    \n",
    "    print(\"path: \", path, \" | bottleneck: \", bottleneck)\n",
    "    \n",
    "    \n",
    "    # path flow update\n",
    "    for i in range(len(path) - 1):\n",
    "        v_curr = path[i]\n",
    "        v_next = path[i+1]\n",
    "\n",
    "        F[v_curr, v_next] += bottleneck\n",
    "        F[v_next, v_curr] -= bottleneck\n",
    "        \n",
    "    \n",
    "    #print('')\n",
    "    #print('----- New iteration -----')\n",
    "    #show_path(path, V)\n",
    "    #print('Bottleneck is: ', bottleneck)\n",
    "    \n",
    "    return F, False"
   ]
  },
  {
   "cell_type": "code",
   "execution_count": 8,
   "metadata": {},
   "outputs": [],
   "source": [
    "F_ = np.zeros((Vsize, Vsize)) # Current flow"
   ]
  },
  {
   "cell_type": "code",
   "execution_count": 13,
   "metadata": {},
   "outputs": [],
   "source": [
    "while True:\n",
    "        F_, end = iteration(g, F_, V)\n",
    "        if end : break"
   ]
  },
  {
   "cell_type": "code",
   "execution_count": 14,
   "metadata": {},
   "outputs": [
    {
     "name": "stdout",
     "output_type": "stream",
     "text": [
      "X |  S  a  b  E \n",
      "\n",
      "S |  0  5  5  0 \n",
      "a |  -5  0  0  5 \n",
      "b |  -5  0  0  5 \n",
      "E |  0  -5  -5  0 \n",
      "MaxFlow is:  10.0\n"
     ]
    }
   ],
   "source": [
    "show(F_)\n",
    "print('MaxFlow is: ', sum(F_[:, -1]))"
   ]
  },
  {
   "cell_type": "code",
   "execution_count": null,
   "metadata": {},
   "outputs": [],
   "source": []
  }
 ],
 "metadata": {
  "kernelspec": {
   "display_name": "Python 3",
   "language": "python",
   "name": "python3"
  },
  "language_info": {
   "codemirror_mode": {
    "name": "ipython",
    "version": 3
   },
   "file_extension": ".py",
   "mimetype": "text/x-python",
   "name": "python",
   "nbconvert_exporter": "python",
   "pygments_lexer": "ipython3",
   "version": "3.8.0"
  }
 },
 "nbformat": 4,
 "nbformat_minor": 4
}
